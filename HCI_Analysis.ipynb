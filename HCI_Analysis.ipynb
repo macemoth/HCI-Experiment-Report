{
 "cells": [
  {
   "cell_type": "code",
   "execution_count": 9,
   "metadata": {},
   "outputs": [],
   "source": [
    "from nltk.sentiment.vader import SentimentIntensityAnalyzer\n",
    "# nltk.download('vader_lexicon')\n",
    "import numpy as np\n",
    "import pandas as pd\n",
    "import seaborn as sns\n",
    "from scipy import stats\n",
    "sns.set_context(\"paper\", font_scale=1.5,)"
   ]
  },
  {
   "cell_type": "code",
   "execution_count": 2,
   "metadata": {},
   "outputs": [
    {
     "data": {
      "text/html": [
       "<div>\n",
       "<style scoped>\n",
       "    .dataframe tbody tr th:only-of-type {\n",
       "        vertical-align: middle;\n",
       "    }\n",
       "\n",
       "    .dataframe tbody tr th {\n",
       "        vertical-align: top;\n",
       "    }\n",
       "\n",
       "    .dataframe thead th {\n",
       "        text-align: right;\n",
       "    }\n",
       "</style>\n",
       "<table border=\"1\" class=\"dataframe\">\n",
       "  <thead>\n",
       "    <tr style=\"text-align: right;\">\n",
       "      <th></th>\n",
       "      <th>id</th>\n",
       "      <th>route_length</th>\n",
       "      <th>decision points</th>\n",
       "      <th>condition</th>\n",
       "      <th>gender</th>\n",
       "      <th>age</th>\n",
       "      <th>how_often_use_gmaps</th>\n",
       "      <th>completion_time</th>\n",
       "      <th>errors</th>\n",
       "      <th>nasatlx</th>\n",
       "      <th>route_recall_turns</th>\n",
       "      <th>route_recall_directional_changes</th>\n",
       "      <th>Statement 1</th>\n",
       "      <th>Statement 2</th>\n",
       "      <th>Statement 3</th>\n",
       "      <th>Statement 4</th>\n",
       "      <th>Statement 5</th>\n",
       "    </tr>\n",
       "  </thead>\n",
       "  <tbody>\n",
       "    <tr>\n",
       "      <th>0</th>\n",
       "      <td>1</td>\n",
       "      <td>1000</td>\n",
       "      <td>9</td>\n",
       "      <td>dot_navigation</td>\n",
       "      <td>Male</td>\n",
       "      <td>25</td>\n",
       "      <td>3</td>\n",
       "      <td>771</td>\n",
       "      <td>0</td>\n",
       "      <td>29.333333</td>\n",
       "      <td>100.000</td>\n",
       "      <td>100.0</td>\n",
       "      <td>Dot navigation was really easy to use for me.</td>\n",
       "      <td>Because I can see an overview of the route, I ...</td>\n",
       "      <td>If there was a long, straight part of the rout...</td>\n",
       "      <td>I very much prefer dot navigation to turn-by-t...</td>\n",
       "      <td>If there was a unclear turn that I could hardl...</td>\n",
       "    </tr>\n",
       "    <tr>\n",
       "      <th>1</th>\n",
       "      <td>2</td>\n",
       "      <td>1050</td>\n",
       "      <td>9</td>\n",
       "      <td>dot_navigation</td>\n",
       "      <td>Male</td>\n",
       "      <td>28</td>\n",
       "      <td>4</td>\n",
       "      <td>768</td>\n",
       "      <td>0</td>\n",
       "      <td>33.666667</td>\n",
       "      <td>100.000</td>\n",
       "      <td>100.0</td>\n",
       "      <td>The experience (turn-by-turn navigation) was p...</td>\n",
       "      <td>I had to look down at my device all the time. ...</td>\n",
       "      <td>Never really had an overview of where I was go...</td>\n",
       "      <td>If there was a straight part of the route, you...</td>\n",
       "      <td>I would use it (turn-by-turn navigation) in my...</td>\n",
       "    </tr>\n",
       "    <tr>\n",
       "      <th>2</th>\n",
       "      <td>3</td>\n",
       "      <td>1000</td>\n",
       "      <td>7</td>\n",
       "      <td>guided_navigation</td>\n",
       "      <td>Male</td>\n",
       "      <td>27</td>\n",
       "      <td>3</td>\n",
       "      <td>734</td>\n",
       "      <td>0</td>\n",
       "      <td>16.000000</td>\n",
       "      <td>85.700</td>\n",
       "      <td>85.7</td>\n",
       "      <td>The participant was familiar with the navigati...</td>\n",
       "      <td>The navigation method (guided navigation) impr...</td>\n",
       "      <td>The participant had no problems while navigati...</td>\n",
       "      <td>Most of the time the participant uses the dot ...</td>\n",
       "      <td>The participant would you the guided navigatio...</td>\n",
       "    </tr>\n",
       "    <tr>\n",
       "      <th>3</th>\n",
       "      <td>4</td>\n",
       "      <td>900</td>\n",
       "      <td>7</td>\n",
       "      <td>guided_navigation</td>\n",
       "      <td>Female</td>\n",
       "      <td>26</td>\n",
       "      <td>4</td>\n",
       "      <td>654</td>\n",
       "      <td>1</td>\n",
       "      <td>24.670000</td>\n",
       "      <td>100.000</td>\n",
       "      <td>100.0</td>\n",
       "      <td>She prefers dot navigation because with the gu...</td>\n",
       "      <td>The dot navigation is more intuitive</td>\n",
       "      <td>She did a mistake because she was confusing be...</td>\n",
       "      <td>She corrected herself when she made the mistak...</td>\n",
       "      <td>Road easy to follow as there is not much traff...</td>\n",
       "    </tr>\n",
       "    <tr>\n",
       "      <th>4</th>\n",
       "      <td>5</td>\n",
       "      <td>1060</td>\n",
       "      <td>8</td>\n",
       "      <td>dot_navigation</td>\n",
       "      <td>Male</td>\n",
       "      <td>25</td>\n",
       "      <td>4</td>\n",
       "      <td>726</td>\n",
       "      <td>0</td>\n",
       "      <td>34.670000</td>\n",
       "      <td>75.000</td>\n",
       "      <td>75.0</td>\n",
       "      <td>He's quite content about not making any errors...</td>\n",
       "      <td>The route was considered easy to follow due to...</td>\n",
       "      <td>He thinks dot navigation is easier, because yo...</td>\n",
       "      <td>In the beginning he had some issues to orienta...</td>\n",
       "      <td>He has already been familiar with the surround...</td>\n",
       "    </tr>\n",
       "    <tr>\n",
       "      <th>5</th>\n",
       "      <td>6</td>\n",
       "      <td>1000</td>\n",
       "      <td>9</td>\n",
       "      <td>guided_navigation</td>\n",
       "      <td>Male</td>\n",
       "      <td>26</td>\n",
       "      <td>4</td>\n",
       "      <td>662</td>\n",
       "      <td>1</td>\n",
       "      <td>20.666667</td>\n",
       "      <td>100.000</td>\n",
       "      <td>100.0</td>\n",
       "      <td>I was a little confused, sometimes the pointer...</td>\n",
       "      <td>When I use google map I usually use the dot na...</td>\n",
       "      <td>I made a mistake, I followed a path that more...</td>\n",
       "      <td>I was looking too far ahead on the road and no...</td>\n",
       "      <td>I prefer spot navigation. So knowing where to ...</td>\n",
       "    </tr>\n",
       "    <tr>\n",
       "      <th>6</th>\n",
       "      <td>7</td>\n",
       "      <td>1000</td>\n",
       "      <td>8</td>\n",
       "      <td>dot_navigation</td>\n",
       "      <td>Male</td>\n",
       "      <td>25</td>\n",
       "      <td>4</td>\n",
       "      <td>652</td>\n",
       "      <td>0</td>\n",
       "      <td>25.670000</td>\n",
       "      <td>0.625</td>\n",
       "      <td>0.6</td>\n",
       "      <td>I usually hold my phone in my hands when navig...</td>\n",
       "      <td>The GPS pointer jumped onto a building, so I t...</td>\n",
       "      <td>I really like and prefer the dot navigation ov...</td>\n",
       "      <td>I usually turn and move the map in my walking ...</td>\n",
       "      <td>I always use the dot navigation when I walk. H...</td>\n",
       "    </tr>\n",
       "    <tr>\n",
       "      <th>7</th>\n",
       "      <td>8</td>\n",
       "      <td>1000</td>\n",
       "      <td>9</td>\n",
       "      <td>guided_navigation</td>\n",
       "      <td>Male</td>\n",
       "      <td>22</td>\n",
       "      <td>4</td>\n",
       "      <td>666</td>\n",
       "      <td>0</td>\n",
       "      <td>31.333333</td>\n",
       "      <td>100.000</td>\n",
       "      <td>100.0</td>\n",
       "      <td>Route was manageable with navigation.</td>\n",
       "      <td>Some issues with navigation method, GPS did no...</td>\n",
       "      <td>Do not like navigation because needed to hold ...</td>\n",
       "      <td>Navigation did not work in realtime because of...</td>\n",
       "      <td>Would not use it, prefers dotted navigation fo...</td>\n",
       "    </tr>\n",
       "    <tr>\n",
       "      <th>8</th>\n",
       "      <td>9</td>\n",
       "      <td>1001</td>\n",
       "      <td>9</td>\n",
       "      <td>guided_navigation</td>\n",
       "      <td>Male</td>\n",
       "      <td>23</td>\n",
       "      <td>4</td>\n",
       "      <td>737</td>\n",
       "      <td>1</td>\n",
       "      <td>15.330000</td>\n",
       "      <td>75.000</td>\n",
       "      <td>100.0</td>\n",
       "      <td>I'd say we were very lucky with the weather an...</td>\n",
       "      <td>I use the guided navigation, and I found a bit...</td>\n",
       "      <td>Yeah, I mean since the weather is pretty cold ...</td>\n",
       "      <td>Yeah I think outside of the experiment, I woul...</td>\n",
       "      <td>I would use it [Guided Navigation] when I'm on...</td>\n",
       "    </tr>\n",
       "    <tr>\n",
       "      <th>9</th>\n",
       "      <td>10</td>\n",
       "      <td>950</td>\n",
       "      <td>7</td>\n",
       "      <td>dot_navigation</td>\n",
       "      <td>Male</td>\n",
       "      <td>25</td>\n",
       "      <td>4</td>\n",
       "      <td>866</td>\n",
       "      <td>1</td>\n",
       "      <td>22.330000</td>\n",
       "      <td>85.700</td>\n",
       "      <td>80.0</td>\n",
       "      <td>The participant stated that the starting point...</td>\n",
       "      <td>The participant stated that he was missing rem...</td>\n",
       "      <td>The participant stated that he already knew th...</td>\n",
       "      <td>The participant stated that he sometimes was d...</td>\n",
       "      <td>The participant would not use dot navigation w...</td>\n",
       "    </tr>\n",
       "    <tr>\n",
       "      <th>10</th>\n",
       "      <td>11</td>\n",
       "      <td>1000</td>\n",
       "      <td>5</td>\n",
       "      <td>dot_navigation</td>\n",
       "      <td>Male</td>\n",
       "      <td>25</td>\n",
       "      <td>4</td>\n",
       "      <td>831</td>\n",
       "      <td>0</td>\n",
       "      <td>20.000000</td>\n",
       "      <td>100.000</td>\n",
       "      <td>100.0</td>\n",
       "      <td>It wasn’t difficult.</td>\n",
       "      <td>It was cold, so I always had my cell phone in...</td>\n",
       "      <td>I found the dot navigation very good, very co...</td>\n",
       "      <td>Google Maps showed me the wrong route.</td>\n",
       "      <td>I wouldn't do this by car (dot navigation) b...</td>\n",
       "    </tr>\n",
       "    <tr>\n",
       "      <th>11</th>\n",
       "      <td>12</td>\n",
       "      <td>1200</td>\n",
       "      <td>8</td>\n",
       "      <td>guided_navigation</td>\n",
       "      <td>Male</td>\n",
       "      <td>25</td>\n",
       "      <td>3</td>\n",
       "      <td>778</td>\n",
       "      <td>0</td>\n",
       "      <td>32.000000</td>\n",
       "      <td>62.500</td>\n",
       "      <td>100.0</td>\n",
       "      <td>One challenge I faced was that I sometimes did...</td>\n",
       "      <td>A problem with the navigation method was, that...</td>\n",
       "      <td>The navigation method entices you to just foll...</td>\n",
       "      <td>I would use this navigation method when the co...</td>\n",
       "      <td>I would use this navigation method if I truly ...</td>\n",
       "    </tr>\n",
       "    <tr>\n",
       "      <th>12</th>\n",
       "      <td>13</td>\n",
       "      <td>1000</td>\n",
       "      <td>8</td>\n",
       "      <td>dot_navigation</td>\n",
       "      <td>Female</td>\n",
       "      <td>25</td>\n",
       "      <td>5</td>\n",
       "      <td>772</td>\n",
       "      <td>1</td>\n",
       "      <td>40.000000</td>\n",
       "      <td>75.000</td>\n",
       "      <td>100.0</td>\n",
       "      <td>It was not always clear to the subject which w...</td>\n",
       "      <td>The weather presented a real challenge, as the...</td>\n",
       "      <td>Generally, the Dot Navigation was considered p...</td>\n",
       "      <td>For navigating inside a close city, the Dot Na...</td>\n",
       "      <td>With the bad weather conditions, the subject w...</td>\n",
       "    </tr>\n",
       "    <tr>\n",
       "      <th>13</th>\n",
       "      <td>14</td>\n",
       "      <td>1100</td>\n",
       "      <td>7</td>\n",
       "      <td>dot_navigation</td>\n",
       "      <td>Female</td>\n",
       "      <td>23</td>\n",
       "      <td>4</td>\n",
       "      <td>779</td>\n",
       "      <td>0</td>\n",
       "      <td>8.950000</td>\n",
       "      <td>100.000</td>\n",
       "      <td>100.0</td>\n",
       "      <td>As a whole, the experience was great.</td>\n",
       "      <td>The objective of the experience was clear.</td>\n",
       "      <td>The experiment was easy and no mistake was mad...</td>\n",
       "      <td>She prefers dot navigation to guided navigatio...</td>\n",
       "      <td>She usually uses navigation when she visits so...</td>\n",
       "    </tr>\n",
       "    <tr>\n",
       "      <th>14</th>\n",
       "      <td>15</td>\n",
       "      <td>1200</td>\n",
       "      <td>9</td>\n",
       "      <td>dot_navigation</td>\n",
       "      <td>Male</td>\n",
       "      <td>22</td>\n",
       "      <td>4</td>\n",
       "      <td>1085</td>\n",
       "      <td>0</td>\n",
       "      <td>31.300000</td>\n",
       "      <td>77.700</td>\n",
       "      <td>77.7</td>\n",
       "      <td>The dot navigation gave a good estimate of whe...</td>\n",
       "      <td>The participant uses the satellite version of ...</td>\n",
       "      <td>The participant is confident with using the do...</td>\n",
       "      <td>The participant would use the dot navigation e...</td>\n",
       "      <td>The participant had no problems with the route...</td>\n",
       "    </tr>\n",
       "    <tr>\n",
       "      <th>15</th>\n",
       "      <td>16</td>\n",
       "      <td>1100</td>\n",
       "      <td>8</td>\n",
       "      <td>guided_navigation</td>\n",
       "      <td>Male</td>\n",
       "      <td>26</td>\n",
       "      <td>3</td>\n",
       "      <td>941</td>\n",
       "      <td>2</td>\n",
       "      <td>21.670000</td>\n",
       "      <td>87.500</td>\n",
       "      <td>87.5</td>\n",
       "      <td>Overall, the participant described the experie...</td>\n",
       "      <td>During the experiment, he has often put the ph...</td>\n",
       "      <td>At the very beginning of the experiment, just ...</td>\n",
       "      <td>Almost at the end of the route, the participan...</td>\n",
       "      <td>The participant stated that in the future he w...</td>\n",
       "    </tr>\n",
       "    <tr>\n",
       "      <th>16</th>\n",
       "      <td>17</td>\n",
       "      <td>1000</td>\n",
       "      <td>8</td>\n",
       "      <td>dot_navigation</td>\n",
       "      <td>Male</td>\n",
       "      <td>24</td>\n",
       "      <td>4</td>\n",
       "      <td>785</td>\n",
       "      <td>0</td>\n",
       "      <td>46.660000</td>\n",
       "      <td>100.000</td>\n",
       "      <td>100.0</td>\n",
       "      <td>It was a very pleasant experience as I use thi...</td>\n",
       "      <td>I really like the navigation method a lot. Sim...</td>\n",
       "      <td>Sometimes I wasn't so sure which way to exactl...</td>\n",
       "      <td>I would only use this method when I’m walking ...</td>\n",
       "      <td>-</td>\n",
       "    </tr>\n",
       "    <tr>\n",
       "      <th>17</th>\n",
       "      <td>18</td>\n",
       "      <td>1300</td>\n",
       "      <td>8</td>\n",
       "      <td>guided_navigation</td>\n",
       "      <td>Male</td>\n",
       "      <td>26</td>\n",
       "      <td>4</td>\n",
       "      <td>2544</td>\n",
       "      <td>0</td>\n",
       "      <td>46.660000</td>\n",
       "      <td>100.000</td>\n",
       "      <td>100.0</td>\n",
       "      <td>It was pretty cold outside, especially holding...</td>\n",
       "      <td>I used the guided navigation. It was unfamilia...</td>\n",
       "      <td>I had the feeling that the pointer sometimes d...</td>\n",
       "      <td>I would use this method if I am traveling by c...</td>\n",
       "      <td>-</td>\n",
       "    </tr>\n",
       "    <tr>\n",
       "      <th>18</th>\n",
       "      <td>19</td>\n",
       "      <td>1000</td>\n",
       "      <td>9</td>\n",
       "      <td>guided_navigation</td>\n",
       "      <td>Male</td>\n",
       "      <td>26</td>\n",
       "      <td>3</td>\n",
       "      <td>765</td>\n",
       "      <td>0</td>\n",
       "      <td>27.660000</td>\n",
       "      <td>100.000</td>\n",
       "      <td>100.0</td>\n",
       "      <td>Accuracy of the map was not very good. Usually...</td>\n",
       "      <td>Indicator was on the wrong position multiple t...</td>\n",
       "      <td>Normally uses dot navigation and don’t like th...</td>\n",
       "      <td>Google tells to cross a street illegally.</td>\n",
       "      <td>It was cold during the experiment. Could not w...</td>\n",
       "    </tr>\n",
       "    <tr>\n",
       "      <th>19</th>\n",
       "      <td>20</td>\n",
       "      <td>1000</td>\n",
       "      <td>6</td>\n",
       "      <td>dot_navigation</td>\n",
       "      <td>Male</td>\n",
       "      <td>24</td>\n",
       "      <td>3</td>\n",
       "      <td>936</td>\n",
       "      <td>1</td>\n",
       "      <td>43.666667</td>\n",
       "      <td>100.000</td>\n",
       "      <td>62.5</td>\n",
       "      <td>The participant had some trouble understanding...</td>\n",
       "      <td>The participant says that the dot navigation m...</td>\n",
       "      <td>The participant was not familiar with the rout...</td>\n",
       "      <td>The participant is not used to having to press...</td>\n",
       "      <td>The participant mentioned that it was cold out...</td>\n",
       "    </tr>\n",
       "    <tr>\n",
       "      <th>20</th>\n",
       "      <td>21</td>\n",
       "      <td>950</td>\n",
       "      <td>8</td>\n",
       "      <td>dot_navigation</td>\n",
       "      <td>Male</td>\n",
       "      <td>22</td>\n",
       "      <td>4</td>\n",
       "      <td>745</td>\n",
       "      <td>1</td>\n",
       "      <td>49.000000</td>\n",
       "      <td>100.000</td>\n",
       "      <td>100.0</td>\n",
       "      <td>There was snow and ice outside and it was cold...</td>\n",
       "      <td>I always use the dot navigation so i am quite ...</td>\n",
       "      <td>Using the dot navigation, one does not need to...</td>\n",
       "      <td>The route was not super easy, because there we...</td>\n",
       "      <td>I prefer the dot navigation over the guided on...</td>\n",
       "    </tr>\n",
       "  </tbody>\n",
       "</table>\n",
       "</div>"
      ],
      "text/plain": [
       "    id  route_length  decision points          condition  gender  age  \\\n",
       "0    1          1000                9     dot_navigation    Male   25   \n",
       "1    2          1050                9     dot_navigation    Male   28   \n",
       "2    3          1000                7  guided_navigation    Male   27   \n",
       "3    4           900                7  guided_navigation  Female   26   \n",
       "4    5          1060                8     dot_navigation    Male   25   \n",
       "5    6          1000                9  guided_navigation    Male   26   \n",
       "6    7          1000                8     dot_navigation    Male   25   \n",
       "7    8          1000                9  guided_navigation    Male   22   \n",
       "8    9          1001                9  guided_navigation    Male   23   \n",
       "9   10           950                7     dot_navigation    Male   25   \n",
       "10  11          1000                5     dot_navigation    Male   25   \n",
       "11  12          1200                8  guided_navigation    Male   25   \n",
       "12  13          1000                8     dot_navigation  Female   25   \n",
       "13  14          1100                7     dot_navigation  Female   23   \n",
       "14  15          1200                9     dot_navigation    Male   22   \n",
       "15  16          1100                8  guided_navigation    Male   26   \n",
       "16  17          1000                8     dot_navigation    Male   24   \n",
       "17  18          1300                8  guided_navigation    Male   26   \n",
       "18  19          1000                9  guided_navigation    Male   26   \n",
       "19  20          1000                6     dot_navigation    Male   24   \n",
       "20  21           950                8     dot_navigation    Male   22   \n",
       "\n",
       "    how_often_use_gmaps  completion_time  errors    nasatlx  \\\n",
       "0                     3              771       0  29.333333   \n",
       "1                     4              768       0  33.666667   \n",
       "2                     3              734       0  16.000000   \n",
       "3                     4              654       1  24.670000   \n",
       "4                     4              726       0  34.670000   \n",
       "5                     4              662       1  20.666667   \n",
       "6                     4              652       0  25.670000   \n",
       "7                     4              666       0  31.333333   \n",
       "8                     4              737       1  15.330000   \n",
       "9                     4              866       1  22.330000   \n",
       "10                    4              831       0  20.000000   \n",
       "11                    3              778       0  32.000000   \n",
       "12                    5              772       1  40.000000   \n",
       "13                    4              779       0   8.950000   \n",
       "14                    4             1085       0  31.300000   \n",
       "15                    3              941       2  21.670000   \n",
       "16                    4              785       0  46.660000   \n",
       "17                    4             2544       0  46.660000   \n",
       "18                    3              765       0  27.660000   \n",
       "19                    3              936       1  43.666667   \n",
       "20                    4              745       1  49.000000   \n",
       "\n",
       "    route_recall_turns  route_recall_directional_changes  \\\n",
       "0              100.000                             100.0   \n",
       "1              100.000                             100.0   \n",
       "2               85.700                              85.7   \n",
       "3              100.000                             100.0   \n",
       "4               75.000                              75.0   \n",
       "5              100.000                             100.0   \n",
       "6                0.625                               0.6   \n",
       "7              100.000                             100.0   \n",
       "8               75.000                             100.0   \n",
       "9               85.700                              80.0   \n",
       "10             100.000                             100.0   \n",
       "11              62.500                             100.0   \n",
       "12              75.000                             100.0   \n",
       "13             100.000                             100.0   \n",
       "14              77.700                              77.7   \n",
       "15              87.500                              87.5   \n",
       "16             100.000                             100.0   \n",
       "17             100.000                             100.0   \n",
       "18             100.000                             100.0   \n",
       "19             100.000                              62.5   \n",
       "20             100.000                             100.0   \n",
       "\n",
       "                                          Statement 1  \\\n",
       "0       Dot navigation was really easy to use for me.   \n",
       "1   The experience (turn-by-turn navigation) was p...   \n",
       "2   The participant was familiar with the navigati...   \n",
       "3   She prefers dot navigation because with the gu...   \n",
       "4   He's quite content about not making any errors...   \n",
       "5   I was a little confused, sometimes the pointer...   \n",
       "6   I usually hold my phone in my hands when navig...   \n",
       "7               Route was manageable with navigation.   \n",
       "8   I'd say we were very lucky with the weather an...   \n",
       "9   The participant stated that the starting point...   \n",
       "10                               It wasn’t difficult.   \n",
       "11  One challenge I faced was that I sometimes did...   \n",
       "12  It was not always clear to the subject which w...   \n",
       "13              As a whole, the experience was great.   \n",
       "14  The dot navigation gave a good estimate of whe...   \n",
       "15  Overall, the participant described the experie...   \n",
       "16  It was a very pleasant experience as I use thi...   \n",
       "17  It was pretty cold outside, especially holding...   \n",
       "18  Accuracy of the map was not very good. Usually...   \n",
       "19  The participant had some trouble understanding...   \n",
       "20  There was snow and ice outside and it was cold...   \n",
       "\n",
       "                                          Statement 2  \\\n",
       "0   Because I can see an overview of the route, I ...   \n",
       "1   I had to look down at my device all the time. ...   \n",
       "2   The navigation method (guided navigation) impr...   \n",
       "3               The dot navigation is more intuitive    \n",
       "4   The route was considered easy to follow due to...   \n",
       "5   When I use google map I usually use the dot na...   \n",
       "6   The GPS pointer jumped onto a building, so I t...   \n",
       "7   Some issues with navigation method, GPS did no...   \n",
       "8   I use the guided navigation, and I found a bit...   \n",
       "9   The participant stated that he was missing rem...   \n",
       "10   It was cold, so I always had my cell phone in...   \n",
       "11  A problem with the navigation method was, that...   \n",
       "12  The weather presented a real challenge, as the...   \n",
       "13         The objective of the experience was clear.   \n",
       "14  The participant uses the satellite version of ...   \n",
       "15  During the experiment, he has often put the ph...   \n",
       "16  I really like the navigation method a lot. Sim...   \n",
       "17  I used the guided navigation. It was unfamilia...   \n",
       "18  Indicator was on the wrong position multiple t...   \n",
       "19  The participant says that the dot navigation m...   \n",
       "20  I always use the dot navigation so i am quite ...   \n",
       "\n",
       "                                          Statement 3  \\\n",
       "0   If there was a long, straight part of the rout...   \n",
       "1   Never really had an overview of where I was go...   \n",
       "2   The participant had no problems while navigati...   \n",
       "3   She did a mistake because she was confusing be...   \n",
       "4   He thinks dot navigation is easier, because yo...   \n",
       "5    I made a mistake, I followed a path that more...   \n",
       "6   I really like and prefer the dot navigation ov...   \n",
       "7   Do not like navigation because needed to hold ...   \n",
       "8   Yeah, I mean since the weather is pretty cold ...   \n",
       "9   The participant stated that he already knew th...   \n",
       "10   I found the dot navigation very good, very co...   \n",
       "11  The navigation method entices you to just foll...   \n",
       "12  Generally, the Dot Navigation was considered p...   \n",
       "13  The experiment was easy and no mistake was mad...   \n",
       "14  The participant is confident with using the do...   \n",
       "15  At the very beginning of the experiment, just ...   \n",
       "16  Sometimes I wasn't so sure which way to exactl...   \n",
       "17  I had the feeling that the pointer sometimes d...   \n",
       "18  Normally uses dot navigation and don’t like th...   \n",
       "19  The participant was not familiar with the rout...   \n",
       "20  Using the dot navigation, one does not need to...   \n",
       "\n",
       "                                          Statement 4  \\\n",
       "0   I very much prefer dot navigation to turn-by-t...   \n",
       "1   If there was a straight part of the route, you...   \n",
       "2   Most of the time the participant uses the dot ...   \n",
       "3   She corrected herself when she made the mistak...   \n",
       "4   In the beginning he had some issues to orienta...   \n",
       "5   I was looking too far ahead on the road and no...   \n",
       "6   I usually turn and move the map in my walking ...   \n",
       "7   Navigation did not work in realtime because of...   \n",
       "8   Yeah I think outside of the experiment, I woul...   \n",
       "9   The participant stated that he sometimes was d...   \n",
       "10             Google Maps showed me the wrong route.   \n",
       "11  I would use this navigation method when the co...   \n",
       "12  For navigating inside a close city, the Dot Na...   \n",
       "13  She prefers dot navigation to guided navigatio...   \n",
       "14  The participant would use the dot navigation e...   \n",
       "15  Almost at the end of the route, the participan...   \n",
       "16  I would only use this method when I’m walking ...   \n",
       "17  I would use this method if I am traveling by c...   \n",
       "18          Google tells to cross a street illegally.   \n",
       "19  The participant is not used to having to press...   \n",
       "20  The route was not super easy, because there we...   \n",
       "\n",
       "                                          Statement 5  \n",
       "0   If there was a unclear turn that I could hardl...  \n",
       "1   I would use it (turn-by-turn navigation) in my...  \n",
       "2   The participant would you the guided navigatio...  \n",
       "3   Road easy to follow as there is not much traff...  \n",
       "4   He has already been familiar with the surround...  \n",
       "5   I prefer spot navigation. So knowing where to ...  \n",
       "6   I always use the dot navigation when I walk. H...  \n",
       "7   Would not use it, prefers dotted navigation fo...  \n",
       "8   I would use it [Guided Navigation] when I'm on...  \n",
       "9   The participant would not use dot navigation w...  \n",
       "10    I wouldn't do this by car (dot navigation) b...  \n",
       "11  I would use this navigation method if I truly ...  \n",
       "12  With the bad weather conditions, the subject w...  \n",
       "13  She usually uses navigation when she visits so...  \n",
       "14  The participant had no problems with the route...  \n",
       "15  The participant stated that in the future he w...  \n",
       "16                                                  -  \n",
       "17                                                  -  \n",
       "18  It was cold during the experiment. Could not w...  \n",
       "19  The participant mentioned that it was cold out...  \n",
       "20  I prefer the dot navigation over the guided on...  "
      ]
     },
     "execution_count": 2,
     "metadata": {},
     "output_type": "execute_result"
    }
   ],
   "source": [
    "data = pd.read_csv(\"data.csv\", delimiter=\";\")\n",
    "data"
   ]
  },
  {
   "cell_type": "code",
   "execution_count": 61,
   "metadata": {},
   "outputs": [],
   "source": [
    "# Do the sentiment ananlysis\n",
    "sentiments = []\n",
    "for i in range(data.shape[0]): # iterate rows\n",
    "    scores = []\n",
    "    for j in range(1, 6): # iterate statements\n",
    "        sid = SentimentIntensityAnalyzer()\n",
    "        ss = sid.polarity_scores(data[\"Statement \" + str(j)].iloc[i])\n",
    "        scores.append(ss[\"compound\"])\n",
    "    sentiments.append(np.average(scores))\n",
    "data[\"sentiment\"] = sentiments"
   ]
  },
  {
   "cell_type": "code",
   "execution_count": 95,
   "metadata": {},
   "outputs": [
    {
     "data": {
      "image/png": "[encoded data removed]",
      "text/plain": [
       "<Figure size 576x288 with 1 Axes>"
      ]
     },
     "metadata": {},
     "output_type": "display_data"
    }
   ],
   "source": [
    "fig = sns.boxplot(x=\"condition\", y=\"sentiment\", data=data,showfliers = False)\n",
    "#fig.get_figure().savefig(\"Test1.pdf\")"
   ]
  },
  {
   "cell_type": "code",
   "execution_count": 75,
   "metadata": {},
   "outputs": [
    {
     "data": {
      "text/plain": [
       "condition\n",
       "dot_navigation       0.053173\n",
       "guided_navigation    0.032756\n",
       "Name: sentiment, dtype: float64"
      ]
     },
     "execution_count": 75,
     "metadata": {},
     "output_type": "execute_result"
    }
   ],
   "source": [
    "data.groupby(\"condition\")[\"sentiment\"].mean()"
   ]
  },
  {
   "cell_type": "code",
   "execution_count": 76,
   "metadata": {},
   "outputs": [
    {
     "data": {
      "text/plain": [
       "condition\n",
       "dot_navigation       0.06807\n",
       "guided_navigation    0.07758\n",
       "Name: sentiment, dtype: float64"
      ]
     },
     "execution_count": 76,
     "metadata": {},
     "output_type": "execute_result"
    }
   ],
   "source": [
    "data.groupby(\"condition\")[\"sentiment\"].median()"
   ]
  },
  {
   "cell_type": "code",
   "execution_count": 77,
   "metadata": {},
   "outputs": [
    {
     "data": {
      "text/plain": [
       "condition\n",
       "dot_navigation       0.150679\n",
       "guided_navigation    0.194964\n",
       "Name: sentiment, dtype: float64"
      ]
     },
     "execution_count": 77,
     "metadata": {},
     "output_type": "execute_result"
    }
   ],
   "source": [
    "data.groupby(\"condition\")[\"sentiment\"].std()"
   ]
  },
  {
   "cell_type": "code",
   "execution_count": 125,
   "metadata": {},
   "outputs": [
    {
     "name": "stderr",
     "output_type": "stream",
     "text": [
      "/opt/anaconda3/lib/python3.8/site-packages/seaborn/distributions.py:2551: FutureWarning: `distplot` is a deprecated function and will be removed in a future version. Please adapt your code to use either `displot` (a figure-level function with similar flexibility) or `histplot` (an axes-level function for histograms).\n",
      "  warnings.warn(msg, FutureWarning)\n"
     ]
    },
    {
     "data": {
      "image/png": "[encoded data removed]",
      "text/plain": [
       "<Figure size 576x288 with 1 Axes>"
      ]
     },
     "metadata": {},
     "output_type": "display_data"
    }
   ],
   "source": [
    "fig = sns.distplot(data[data[\"condition\"] == \"guided_navigation\"][\"sentiment\"])\n",
    "fig.get_figure().savefig(\"Guided_dist.pdf\")"
   ]
  },
  {
   "cell_type": "code",
   "execution_count": 127,
   "metadata": {},
   "outputs": [
    {
     "name": "stderr",
     "output_type": "stream",
     "text": [
      "/opt/anaconda3/lib/python3.8/site-packages/seaborn/distributions.py:2551: FutureWarning: `distplot` is a deprecated function and will be removed in a future version. Please adapt your code to use either `displot` (a figure-level function with similar flexibility) or `histplot` (an axes-level function for histograms).\n",
      "  warnings.warn(msg, FutureWarning)\n"
     ]
    },
    {
     "data": {
      "image/png": "[encoded data removed]",
      "text/plain": [
       "<Figure size 576x288 with 1 Axes>"
      ]
     },
     "metadata": {},
     "output_type": "display_data"
    }
   ],
   "source": [
    "fig = sns.distplot(data[data[\"condition\"] == \"dot_navigation\"][\"sentiment\"])\n",
    "fig.get_figure().savefig(\"Dot_dist.pdf\")"
   ]
  },
  {
   "cell_type": "code",
   "execution_count": 8,
   "metadata": {},
   "outputs": [],
   "source": [
    "data[\"pace\"] = data[\"completion_time\"] / data[\"route_length\"]"
   ]
  },
  {
   "cell_type": "code",
   "execution_count": 103,
   "metadata": {},
   "outputs": [
    {
     "data": {
      "image/png": "[encoded data removed]",
      "text/plain": [
       "<Figure size 576x288 with 1 Axes>"
      ]
     },
     "metadata": {},
     "output_type": "display_data"
    }
   ],
   "source": [
    "fig = sns.boxplot(x=\"condition\", y=\"completion_time\", data=data,showfliers = False)\n",
    "fig.get_figure().savefig(\"CompletionTime.pdf\")"
   ]
  },
  {
   "cell_type": "code",
   "execution_count": 112,
   "metadata": {},
   "outputs": [
    {
     "data": {
      "image/png": "[encoded data removed]",
      "text/plain": [
       "<Figure size 576x288 with 1 Axes>"
      ]
     },
     "metadata": {},
     "output_type": "display_data"
    }
   ],
   "source": [
    "fig = sns.boxplot(x=\"condition\", y=\"pace\", data=data,showfliers = False)\n",
    "fig.get_figure().savefig(\"CompletionTime.pdf\")"
   ]
  },
  {
   "cell_type": "code",
   "execution_count": 119,
   "metadata": {},
   "outputs": [
    {
     "data": {
      "text/plain": [
       "condition\n",
       "dot_navigation       0.778105\n",
       "guided_navigation    0.734000\n",
       "Name: pace, dtype: float64"
      ]
     },
     "execution_count": 119,
     "metadata": {},
     "output_type": "execute_result"
    }
   ],
   "source": [
    "data.groupby(\"condition\")[\"pace\"].median()"
   ]
  },
  {
   "cell_type": "code",
   "execution_count": 72,
   "metadata": {},
   "outputs": [
    {
     "data": {
      "text/plain": [
       "KstestResult(statistic=0.48323062099968794, pvalue=4.8978866910162076e-05)"
      ]
     },
     "execution_count": 72,
     "metadata": {},
     "output_type": "execute_result"
    }
   ],
   "source": [
    "stats.kstest(data[\"pace\"], 'halfnorm')"
   ]
  },
  {
   "cell_type": "code",
   "execution_count": 80,
   "metadata": {},
   "outputs": [
    {
     "data": {
      "text/plain": [
       "KstestResult(statistic=0.5473325123462396, pvalue=1.9756428388104174e-06)"
      ]
     },
     "execution_count": 80,
     "metadata": {},
     "output_type": "execute_result"
    }
   ],
   "source": [
    "stats.kstest(data[\"pace\"], 'invgauss', args=[0.82])"
   ]
  },
  {
   "cell_type": "code",
   "execution_count": 77,
   "metadata": {},
   "outputs": [
    {
     "name": "stderr",
     "output_type": "stream",
     "text": [
      "/opt/anaconda3/lib/python3.8/site-packages/seaborn/distributions.py:2551: FutureWarning: `distplot` is a deprecated function and will be removed in a future version. Please adapt your code to use either `displot` (a figure-level function with similar flexibility) or `histplot` (an axes-level function for histograms).\n",
      "  warnings.warn(msg, FutureWarning)\n"
     ]
    },
    {
     "data": {
      "image/png": "[encoded data removed]",
      "text/plain": [
       "<Figure size 432x288 with 1 Axes>"
      ]
     },
     "metadata": {
      "needs_background": "light"
     },
     "output_type": "display_data"
    }
   ],
   "source": [
    "fig = sns.distplot(data[\"pace\"])\n",
    "#fig.get_figure().savefig(\"Pace_dist.pdf\")"
   ]
  },
  {
   "cell_type": "code",
   "execution_count": 119,
   "metadata": {},
   "outputs": [
    {
     "data": {
      "text/plain": [
       "WilcoxonResult(statistic=16.0, pvalue=0.49609375)"
      ]
     },
     "execution_count": 119,
     "metadata": {},
     "output_type": "execute_result"
    }
   ],
   "source": [
    "# Not useful, because asymmetrical number of samples\n",
    "stats.wilcoxon(data[data[\"condition\"] == \"dot_navigation\"][\"pace\"].iloc[0:9], data[data[\"condition\"] == \"guided_navigation\"][\"pace\"])"
   ]
  },
  {
   "cell_type": "code",
   "execution_count": null,
   "metadata": {},
   "outputs": [],
   "source": []
  }
 ],
 "metadata": {
  "kernelspec": {
   "display_name": "Python 3",
   "language": "python",
   "name": "python3"
  },
  "language_info": {
   "codemirror_mode": {
    "name": "ipython",
    "version": 3
   },
   "file_extension": ".py",
   "mimetype": "text/x-python",
   "name": "python",
   "nbconvert_exporter": "python",
   "pygments_lexer": "ipython3",
   "version": "3.8.5"
  }
 },
 "nbformat": 4,
 "nbformat_minor": 4
}
